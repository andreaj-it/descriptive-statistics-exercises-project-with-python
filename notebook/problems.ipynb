{
    "cells": [
        {
            "cell_type": "markdown",
            "id": "ac622319",
            "metadata": {},
            "source": [
                "# Descriptive Statistics Problems"
            ]
        },
        {
            "cell_type": "markdown",
            "id": "aa8993e4",
            "metadata": {},
            "source": [
                "### Exercise 1"
            ]
        },
        {
            "cell_type": "markdown",
            "id": "5e0ab0d5",
            "metadata": {},
            "source": [
                "As right now, you are familliar with numpy, we are going to use numpy to get some data statistics.\n",
                "\n",
                "First, lets create an array of 20 elements distributed normally (Gaussian):\n",
                "\n",
                "Use the np.random.normal function to create some data, using 0,1,20 as parameters because we want a one dimentional array of 20 numbers distributed normally (Gaussian)"
            ]
        },
        {
            "cell_type": "code",
            "execution_count": 1,
            "id": "34720ab6",
            "metadata": {},
            "outputs": [
                {
                    "name": "stdout",
                    "output_type": "stream",
                    "text": [
                        "[ 0.81879162 -1.04355064  0.3509007   0.92157829 -0.08738186 -3.12888464\n",
                        " -0.96973267  0.93466579  0.04386634  1.4252155  -0.55706272  0.92682445\n",
                        " -1.28355374  1.09625686 -1.93247255  0.4789592   1.34458964 -0.17542066\n",
                        " -0.08270438 -0.88845473]\n"
                    ]
                }
            ],
            "source": [
                "#import libraries\n",
                "import numpy as np\n",
                "import statistics\n",
                "\n",
                "# Set seed in order to get similar results\n",
                "np.random.seed(234)\n",
                "\n",
                "# create the data\n",
                "dataset = np.random.normal(0,1,20)\n",
                "\n",
                "#print results\n",
                "print(dataset)"
            ]
        },
        {
            "cell_type": "code",
            "execution_count": 2,
            "id": "49c55822",
            "metadata": {},
            "outputs": [
                {
                    "data": {
                        "text/plain": [
                            "-0.09037851021401974"
                        ]
                    },
                    "execution_count": 2,
                    "metadata": {},
                    "output_type": "execute_result"
                }
            ],
            "source": [
                "#Use numpy to get the mean of your data\n",
                "np.mean(dataset)"
            ]
        },
        {
            "cell_type": "code",
            "execution_count": 3,
            "id": "03529459",
            "metadata": {},
            "outputs": [
                {
                    "name": "stdout",
                    "output_type": "stream",
                    "text": [
                        "1.3415269530928813\n"
                    ]
                }
            ],
            "source": [
                "#get the variance of your data\n",
                "#output = statistics.variance(dataset) # difiere por las definiciones\n",
                "output = np.var(dataset)\n",
                "print(output)\n"
            ]
        },
        {
            "cell_type": "code",
            "execution_count": 4,
            "id": "e53f30c5",
            "metadata": {},
            "outputs": [
                {
                    "name": "stdout",
                    "output_type": "stream",
                    "text": [
                        "1.1582430457779063\n"
                    ]
                }
            ],
            "source": [
                "# Standard deviation\n",
                "output_std = np.std(dataset)\n",
                "print(output_std)\n",
                "\n"
            ]
        },
        {
            "cell_type": "code",
            "execution_count": 13,
            "id": "9bce852f",
            "metadata": {},
            "outputs": [
                {
                    "name": "stdout",
                    "output_type": "stream",
                    "text": [
                        "ModeResult(mode=array([[2]]), count=array([[1]]))\n"
                    ]
                }
            ],
            "source": [
                "#import libraries and print the mode\n",
                "from scipy import stats\n",
                "#output_mode = statistics.mode(dataset)\n",
                "\n",
                "\n",
                "# Mode for continuous array\n",
                "continuous_array = np.array([4,6,2,7,23,53,4,1,5])\n",
                "output_mode = stats.mode(continuous_array)\n",
                "print(stats.mode(output_mode))\n"
            ]
        },
        {
            "cell_type": "code",
            "execution_count": 14,
            "id": "c682cb6e",
            "metadata": {},
            "outputs": [
                {
                    "name": "stdout",
                    "output_type": "stream",
                    "text": [
                        "-0.01941901923309142\n"
                    ]
                }
            ],
            "source": [
                "# Median\n",
                "output_median = np.median(dataset)\n",
                "print(output_median)"
            ]
        },
        {
            "cell_type": "code",
            "execution_count": 15,
            "id": "39c3fabd",
            "metadata": {},
            "outputs": [
                {
                    "name": "stdout",
                    "output_type": "stream",
                    "text": [
                        "-0.908774211591676\n",
                        "-0.019419019233091424\n",
                        "0.9228898280795746\n",
                        "-0.01941901923309142\n"
                    ]
                }
            ],
            "source": [
                "# Print the Quantiles\n",
                "output_quantil1=np.quantile(dataset,0.25)\n",
                "output_quantil2=np.quantile(dataset,0.5)\n",
                "output_quantil3=np.quantile(dataset,0.75)\n",
                "print(output_quantil1)\n",
                "print(output_quantil2)\n",
                "print(output_quantil3)\n",
                "\n",
                "\n",
                "# This match with np.median, why?\n",
                "media=np.median(dataset)\n",
                "print(media)\n",
                "#coincide el de 50%"
            ]
        },
        {
            "cell_type": "markdown",
            "id": "46c70c3d",
            "metadata": {},
            "source": [
                "### Exercise 2\n",
                "\n",
                "Write a Python program to calculate the standard deviation of the following data:\n",
                "```py\n",
                "data = [4, 2, 5, 8, 6]\n",
                "```"
            ]
        },
        {
            "cell_type": "code",
            "execution_count": 18,
            "id": "d590308e",
            "metadata": {},
            "outputs": [
                {
                    "name": "stdout",
                    "output_type": "stream",
                    "text": [
                        "[4, 2, 5, 8, 6]\n",
                        "2.23606797749979\n"
                    ]
                }
            ],
            "source": [
                "import math\n",
                "import sys\n",
                "import statistics\n",
                "import numpy as np\n",
                "\n",
                "# Define the standard deviation function\n",
                "\n",
                "def sd_calc(data):\n",
                "    #code here\n",
                "    #return np.stdev(data) #otra forma ?\n",
                "    #return statistics.stdev(data)\n",
                "    # calculate stan. dev.\n",
                "    #Calculate the mean \n",
                "    #Calculate variance\n",
                "    #The square root of the variance\n",
                "\n",
                "    import math\n",
                "    \n",
                "    total_items = len(data)\n",
                "\n",
                "    if total_items <= 1:\n",
                "        return 0.0\n",
                "\n",
                "    var = variance(data)\n",
                "    std_dev = math.sqrt(var)\n",
                "\n",
                "    return std_dev\n",
                "\n",
                "    \n",
                "def variance(data):\n",
                "  n = len(data)\n",
                "\n",
                "  mean = avg_calc(data)\n",
                "  \n",
                "  deviations = [(x - mean) ** 2 for x in data]\n",
                "    \n",
                "  variance = sum(deviations) / (n-1)\n",
                "  return variance\n",
                "\n",
                "# Define the average function\n",
                "\n",
                "def avg_calc(ls):\n",
                "    #code here\n",
                "    # importing reduce()\n",
                "    #from functools import reduc\n",
                "    #return reduce(lambda a, b: a + b, ls) / len(ls) ## otra forma\n",
                "    #return mean(ls) # otra forma con mean\n",
                "    #return sum(ls) / len(ls)\n",
                "    #average = sum(orders) / len(orders)\n",
                "\n",
                "    # calculate average\n",
                "    average = sum(ls) / len(ls)\n",
                "    return average\n",
                " \n",
                "\n",
                "data = [4, 2, 5, 8, 6]\n",
                "\n",
                "#print the data\n",
                "print(data)\n",
                "\n",
                "#print the standard deviation of the data\n",
                "print(sd_calc(data))\n"
            ]
        },
        {
            "cell_type": "markdown",
            "id": "04b71791",
            "metadata": {},
            "source": [
                "Source:\n",
                "\n",
                "https://www.w3resource.com/"
            ]
        }
    ],
    "metadata": {
        "kernelspec": {
            "display_name": "Python 3.8.13 64-bit ('3.8.13')",
            "language": "python",
            "name": "python3"
        },
        "language_info": {
            "codemirror_mode": {
                "name": "ipython",
                "version": 3
            },
            "file_extension": ".py",
            "mimetype": "text/x-python",
            "name": "python",
            "nbconvert_exporter": "python",
            "pygments_lexer": "ipython3",
            "version": "3.8.13"
        },
        "vscode": {
            "interpreter": {
                "hash": "110cc1dee26208153f2972f08a2ad52b6a56238dc66d48e87fb757ef2996db56"
            }
        }
    },
    "nbformat": 4,
    "nbformat_minor": 5
}
